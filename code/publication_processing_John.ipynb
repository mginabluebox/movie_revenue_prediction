{
 "cells": [
  {
   "cell_type": "code",
   "execution_count": 31,
   "metadata": {},
   "outputs": [],
   "source": [
    "import numpy as np\n",
    "import pandas as pd"
   ]
  },
  {
   "cell_type": "code",
   "execution_count": 32,
   "metadata": {},
   "outputs": [],
   "source": [
    "us_data = pd.read_csv('data/aggregated_aggregated.csv')"
   ]
  },
  {
   "cell_type": "code",
   "execution_count": 33,
   "metadata": {},
   "outputs": [],
   "source": [
    "# new_df = us_data.loc[:, ['cast']]\n",
    "# actors_list = new_df['cast'].to_numpy()"
   ]
  },
  {
   "cell_type": "code",
   "execution_count": 34,
   "metadata": {},
   "outputs": [
    {
     "name": "stdout",
     "output_type": "stream",
     "text": [
      "average with potential for shell companies: 1.7737006939067927\n",
      "average without potential shell companies: 2.12532557690608\n"
     ]
    },
    {
     "name": "stderr",
     "output_type": "stream",
     "text": [
      "/Users/johnfitzpatrick/opt/anaconda3/lib/python3.7/site-packages/ipykernel_launcher.py:19: SettingWithCopyWarning: \n",
      "A value is trying to be set on a copy of a slice from a DataFrame.\n",
      "Try using .loc[row_indexer,col_indexer] = value instead\n",
      "\n",
      "See the caveats in the documentation: https://pandas.pydata.org/pandas-docs/stable/user_guide/indexing.html#returning-a-view-versus-a-copy\n"
     ]
    }
   ],
   "source": [
    "# Calculating the average number of films produced in a year given that they produced at least one film\n",
    "\n",
    "us_data['year'] = pd.DatetimeIndex(us_data['release_date']).year\n",
    "in_date = us_data[(us_data['year'] >= 1998) & (us_data['year'] <= 2014)]\n",
    "df = pd.DataFrame()\n",
    "\n",
    "#count the number of films each company produced in each year and add to dataframe\n",
    "for year in range(1998, 2014):\n",
    "    counter = in_date[in_date['year'] == year]['first_company'].value_counts()\n",
    "    \n",
    "    for i in range(len(counter)):\n",
    "        df.loc[year, counter.index[i]] = counter[i]\n",
    "\n",
    "# drop if only made one film the entire time because that might be a shell company\n",
    "no_shell_companies = df.loc[:, (df.sum(axis=0) > 1)]\n",
    "\n",
    "#calulate mean for each row\n",
    "df['mean'] = df.mean(axis=1)\n",
    "no_shell_companies['mean'] = no_shell_companies.mean(axis=1)\n",
    "\n",
    "print('average with potential for shell companies: {}'.format(np.mean(df['mean'])))\n",
    "print('average without potential shell companies: {}'.format(np.mean(no_shell_companies['mean'])))"
   ]
  },
  {
   "cell_type": "code",
   "execution_count": 35,
   "metadata": {},
   "outputs": [],
   "source": [
    "df = pd.read_csv('data/aggregated_final_clean_actor_istopk_logrev.csv')"
   ]
  },
  {
   "cell_type": "code",
   "execution_count": 36,
   "metadata": {},
   "outputs": [
    {
     "data": {
      "image/png": "[encoded data removed]",
      "text/plain": [
       "<Figure size 432x288 with 1 Axes>"
      ]
     },
     "metadata": {
      "needs_background": "light"
     },
     "output_type": "display_data"
    }
   ],
   "source": [
    "import matplotlib.pyplot as plt\n",
    "\n",
    "plt.hist(df['log_revenue_final'], bins='auto')\n",
    "plt.xlabel('Log Revenue')\n",
    "plt.ylabel('Count');"
   ]
  },
  {
   "cell_type": "code",
   "execution_count": 37,
   "metadata": {},
   "outputs": [
    {
     "data": {
      "text/plain": [
       "(0, 1000000000.0)"
      ]
     },
     "execution_count": 37,
     "metadata": {},
     "output_type": "execute_result"
    },
    {
     "data": {
      "image/png": "[encoded data removed]",
      "text/plain": [
       "<Figure size 432x288 with 1 Axes>"
      ]
     },
     "metadata": {
      "needs_background": "light"
     },
     "output_type": "display_data"
    }
   ],
   "source": [
    "plt.hist(df['revenue'], bins='auto')\n",
    "plt.xlabel('Revenue')\n",
    "plt.ylabel('Count')\n",
    "plt.xlim(0,1e9)"
   ]
  },
  {
   "cell_type": "code",
   "execution_count": 38,
   "metadata": {},
   "outputs": [
    {
     "data": {
      "text/plain": [
       "Index(['id', 'adult', 'belongs_to_collection', 'budget', 'genres', 'homepage',\n",
       "       'imdb_id', 'original_language', 'original_title', 'overview',\n",
       "       'popularity', 'poster_path', 'production_companies',\n",
       "       'production_countries', 'release_date', 'revenue', 'runtime',\n",
       "       'spoken_languages', 'status', 'tagline', 'title', 'video',\n",
       "       'vote_average', 'vote_count', 'cast', 'crew', 'top5_actors',\n",
       "       'log_revenue', 'usa', 'log_revenue_num', 'first_company',\n",
       "       'production_company_class', 'gender_score', 'has_oscar_winner',\n",
       "       'log_budget', 'title_length', 'Action', 'Adventure', 'Animation',\n",
       "       'Comedy', 'Crime', 'Documentary', 'Drama', 'Family', 'Fantasy',\n",
       "       'Foreign', 'History', 'Horror', 'Music', 'Mystery', 'Romance',\n",
       "       'Science Fiction', 'TV Movie', 'Thriller', 'War', 'Western',\n",
       "       'popular_genre', 'collection_name', 'collection', 'first_in_collection',\n",
       "       'sequel', 'revenue_new', 'budget_final', 'release_year',\n",
       "       'log_revenue_final', 'log_budget_final',\n",
       "       'is_top_100_actors_of_past_2_years_0',\n",
       "       'is_top_100_actors_of_past_2_years_1',\n",
       "       'is_top_100_actors_of_past_2_years_2',\n",
       "       'is_top_100_actors_of_past_2_years_3',\n",
       "       'is_top_100_actors_of_past_2_years_4',\n",
       "       'is_top_100_actors_of_past_5_years_0',\n",
       "       'is_top_100_actors_of_past_5_years_1',\n",
       "       'is_top_100_actors_of_past_5_years_2',\n",
       "       'is_top_100_actors_of_past_5_years_3',\n",
       "       'is_top_100_actors_of_past_5_years_4',\n",
       "       'is_top_100_actors_of_past_10_years_0',\n",
       "       'is_top_100_actors_of_past_10_years_1',\n",
       "       'is_top_100_actors_of_past_10_years_2',\n",
       "       'is_top_100_actors_of_past_10_years_3',\n",
       "       'is_top_100_actors_of_past_10_years_4', 'logrev_of_past_2_years_0',\n",
       "       'logrev_of_past_2_years_1', 'logrev_of_past_2_years_2',\n",
       "       'logrev_of_past_2_years_3', 'logrev_of_past_2_years_4',\n",
       "       'logrev_of_past_5_years_0', 'logrev_of_past_5_years_1',\n",
       "       'logrev_of_past_5_years_2', 'logrev_of_past_5_years_3',\n",
       "       'logrev_of_past_5_years_4', 'logrev_of_past_10_years_0',\n",
       "       'logrev_of_past_10_years_1', 'logrev_of_past_10_years_2',\n",
       "       'logrev_of_past_10_years_3', 'logrev_of_past_10_years_4'],\n",
       "      dtype='object')"
      ]
     },
     "execution_count": 38,
     "metadata": {},
     "output_type": "execute_result"
    }
   ],
   "source": [
    "df.columns"
   ]
  },
  {
   "cell_type": "code",
   "execution_count": 39,
   "metadata": {},
   "outputs": [],
   "source": [
    "average_budget = {}\n",
    "average_revenue = {}\n",
    "\n",
    "for year in range(1998, 2014):\n",
    "        average_budget[year] = df[df['release_year'] == year]['budget'].mean()\n",
    "        average_revenue[year] = df[df['release_year'] == year]['revenue'].mean()"
   ]
  },
  {
   "cell_type": "code",
   "execution_count": 40,
   "metadata": {},
   "outputs": [
    {
     "name": "stdout",
     "output_type": "stream",
     "text": [
      "Average movie budget 1998-2014: 40516305.12\n",
      "Average movie revenue 1998-2014: 100194888.89\n"
     ]
    }
   ],
   "source": [
    "print('Average movie budget 1998-2014: {:.2f}'.format(sum(average_budget.values())/len(average_budget.values())))\n",
    "print('Average movie revenue 1998-2014: {:.2f}'.format(sum(average_revenue.values())/len(average_revenue.values())))"
   ]
  },
  {
   "cell_type": "code",
   "execution_count": 42,
   "metadata": {},
   "outputs": [
    {
     "data": {
      "image/png": "[encoded data removed]",
      "text/plain": [
       "<Figure size 432x288 with 1 Axes>"
      ]
     },
     "metadata": {
      "needs_background": "light"
     },
     "output_type": "display_data"
    }
   ],
   "source": [
    "import matplotlib.pyplot as plt\n",
    "\n",
    "plt.hist(df['log_budget_final'], bins='auto')\n",
    "plt.xlabel('Log Budget')\n",
    "plt.ylabel('Count');"
   ]
  },
  {
   "cell_type": "code",
   "execution_count": null,
   "metadata": {},
   "outputs": [],
   "source": []
  }
 ],
 "metadata": {
  "kernelspec": {
   "display_name": "Python 3",
   "language": "python",
   "name": "python3"
  },
  "language_info": {
   "codemirror_mode": {
    "name": "ipython",
    "version": 3
   },
   "file_extension": ".py",
   "mimetype": "text/x-python",
   "name": "python",
   "nbconvert_exporter": "python",
   "pygments_lexer": "ipython3",
   "version": "3.7.6"
  }
 },
 "nbformat": 4,
 "nbformat_minor": 4
}
